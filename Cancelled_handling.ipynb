{
 "cells": [
  {
   "cell_type": "code",
   "outputs": [],
   "source": [
    "import os\n",
    "import base64\n",
    "from google import genai\n",
    "from dotenv import load_dotenv\n",
    "import enum\n",
    "import json\n",
    "\n",
    "# Load the API key from the .env file\n",
    "load_dotenv()\n",
    "api_key = os.getenv(\"GEMINI_API_KEY\")\n",
    "\n",
    "# Set up the Gemini API client\n",
    "client = genai.Client(api_key=api_key)\n",
    "\n",
    "\n",
    "class ADClassification(enum.Enum):  # Define Enum\n",
    "    SUPERSEDED = \"Superseded\"\n",
    "    NORMAL = \"Normal\"\n",
    "    ERROR = \"Error\"\n",
    "    INVALID_JSON = \"Invalid JSON\"  # Add for JSON errors\n",
    "    INVALID_CLASSIFICATION = \"Invalid Classification\"\n"
   ],
   "metadata": {
    "collapsed": false,
    "ExecuteTime": {
     "end_time": "2025-05-07T12:43:13.562924100Z",
     "start_time": "2025-05-07T12:43:10.855525200Z"
    }
   },
   "id": "d7a3100e7b52f8",
   "execution_count": 1
  },
  {
   "cell_type": "code",
   "outputs": [],
   "source": [
    " # Function to encode the PDF file to base64\n",
    "def encode_pdf(pdf_path):\n",
    "    \"\"\"Encodes a PDF file to a base64 string.\"\"\"\n",
    "    try:\n",
    "        with open(pdf_path, \"rb\") as pdf_file:\n",
    "            pdf_data = pdf_file.read()\n",
    "            encoded_string = base64.b64encode(pdf_data).decode(\"utf-8\")\n",
    "        return encoded_string\n",
    "    except Exception as e:\n",
    "        print(f\"Error encoding {pdf_path}: {e}\")\n",
    "        return None"
   ],
   "metadata": {
    "collapsed": false,
    "ExecuteTime": {
     "end_time": "2025-02-14T12:27:08.193633200Z",
     "start_time": "2025-02-14T12:27:08.153527500Z"
    }
   },
   "id": "9499aec29f54712",
   "execution_count": 5
  },
  {
   "cell_type": "code",
   "execution_count": 7,
   "id": "initial_id",
   "metadata": {
    "collapsed": true,
    "ExecuteTime": {
     "end_time": "2025-02-14T12:28:23.078061100Z",
     "start_time": "2025-02-14T12:28:23.069377800Z"
    }
   },
   "outputs": [],
   "source": [
    "def classify_pdf(file_path, prompt):\n",
    "    encoded_pdf = encode_pdf(file_path)\n",
    "    if not encoded_pdf:\n",
    "        return \"Error: Unable to encode PDF\"\n",
    "    contents = f\"{prompt}\\n{encoded_pdf}\"\n",
    "\n",
    "    response = client.models.generate_content(\n",
    "        model='gemini-2.0-flash',\n",
    "        contents=contents,\n",
    "        config={\n",
    "            'response_mime_type': 'application/json',\n",
    "        },\n",
    "    )\n",
    "\n",
    "    try:\n",
    "        response_json = json.loads(response.text)\n",
    "        classification_str = response_json.get(\"classification\")\n",
    "        justification = response_json.get(\"justification\")\n",
    "\n",
    "        try:\n",
    "            classification = ADClassification(classification_str)  # Convert to Enum\n",
    "        except ValueError:\n",
    "            classification = ADClassification.INVALID_CLASSIFICATION  # Enum for invalid\n",
    "            justification = \"LLM returned an invalid classification string.\"\n",
    "\n",
    "        return classification, justification\n",
    "\n",
    "    except json.JSONDecodeError:\n",
    "        return ADClassification.INVALID_JSON, \"Invalid JSON response from LLM\"  # Enum\n",
    "    except Exception as e:\n",
    "        return ADClassification.ERROR, f\"An error occurred: {e}\"  # Enum"
   ]
  },
  {
   "cell_type": "code",
   "outputs": [],
   "source": [
    "def process_pdf_directory(pdf_directory, prompt, classify_pdf_func):\n",
    "    if not os.path.exists(pdf_directory):\n",
    "        print(f\"Error: Directory '{pdf_directory}' not found.\")\n",
    "        return {}  # Return empty dictionary\n",
    "\n",
    "    results = {}\n",
    "    try:\n",
    "        for filename in os.listdir(pdf_directory):\n",
    "            if filename.endswith('.pdf'):\n",
    "                file_path = os.path.join(pdf_directory, filename)\n",
    "                classification, justification = classify_pdf_func(file_path, prompt)\n",
    "                results[filename] = {\"classification\": classification, \"justification\": justification}\n",
    "\n",
    "                print(f'{filename}: {classification.name}')\n",
    "                if justification:\n",
    "                    print(f'  Justification: {justification}')\n",
    "                print(\"-\" * 20)\n",
    "\n",
    "    except Exception as e: # Catch any other error\n",
    "        print(f\"An error occurred during directory processing: {e}\")\n",
    "        return {} # Return empty dictionary\n",
    "\n",
    "    return results"
   ],
   "metadata": {
    "collapsed": false,
    "ExecuteTime": {
     "end_time": "2025-02-14T12:39:20.097208300Z",
     "start_time": "2025-02-14T12:39:20.064564400Z"
    }
   },
   "id": "6cecbf47f2d44159",
   "execution_count": 9
  },
  {
   "cell_type": "code",
   "outputs": [
    {
     "name": "stdout",
     "output_type": "stream",
     "text": [
      "An error occurred during directory processing: 429 RESOURCE_EXHAUSTED. {'error': {'code': 429, 'message': 'Resource has been exhausted (e.g. check quota).', 'status': 'RESOURCE_EXHAUSTED'}}\n"
     ]
    }
   ],
   "source": [
    "pdf_directory = r\"C:\\Users\\zdrop\\PycharmProjects\\BRUMBRUMWEEEE\\Sample_of_a_sample\"\n",
    "\n",
    "prompt = \"\"\"\n",
    "Classify the following document as 'Superseded' or 'Normal' based on its content. Be careful that you don't mark ADs that only supersede other ADs as superseded, when they have not yet been superseded themselves. Respond in JSON format like this:\n",
    "\n",
    "```json\n",
    "{{\n",
    "  \"classification\": \"[Superseded/Normal]\",  # EXACTLY \"Superseded\" or \"Normal\"\n",
    "  \"justification\": \"[Explanation of why the document was classified as such]\"\n",
    "}}\n",
    "For example:\n",
    "        AD_2005-01234R1_1.pdf: SUPERSEDED\n",
    "          Justification: This AD is marked as superseded in many sections of the document. Therefore it is outdated.\n",
    "\"\"\"\n",
    "\n",
    "results = process_pdf_directory(pdf_directory, prompt, classify_pdf)  "
   ],
   "metadata": {
    "collapsed": false,
    "ExecuteTime": {
     "end_time": "2025-02-14T12:42:54.128059800Z",
     "start_time": "2025-02-14T12:42:53.407225500Z"
    }
   },
   "id": "7e4d805a0e22368b",
   "execution_count": 10
  },
  {
   "cell_type": "code",
   "outputs": [],
   "source": [],
   "metadata": {
    "collapsed": false
   },
   "id": "3283d7d02cc08f89"
  }
 ],
 "metadata": {
  "kernelspec": {
   "display_name": "Python 3",
   "language": "python",
   "name": "python3"
  },
  "language_info": {
   "codemirror_mode": {
    "name": "ipython",
    "version": 2
   },
   "file_extension": ".py",
   "mimetype": "text/x-python",
   "name": "python",
   "nbconvert_exporter": "python",
   "pygments_lexer": "ipython2",
   "version": "2.7.6"
  }
 },
 "nbformat": 4,
 "nbformat_minor": 5
}
