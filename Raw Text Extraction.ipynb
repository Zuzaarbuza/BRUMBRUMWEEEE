{
 "cells": [
  {
   "cell_type": "markdown",
   "source": [
    "**Raw text extraction from PDFs with Document AI from Google**\n",
    "Used for:\n",
    "- cancellation notices\n",
    "- ADs"
   ],
   "metadata": {
    "collapsed": false
   },
   "id": "d77be978b08c2355"
  },
  {
   "cell_type": "code",
   "outputs": [
    {
     "name": "stdout",
     "output_type": "stream",
     "text": [
      "Created output directory: C:\\Users\\zdrop\\PycharmProjects\\BRUMBRUMWEEEE\\sample\\output_raw\n",
      "Starting to process PDF files from: C:\\Users\\zdrop\\PycharmProjects\\BRUMBRUMWEEEE\\sample\n",
      "Output JSON files will be saved to: C:\\Users\\zdrop\\PycharmProjects\\BRUMBRUMWEEEE\\sample\\output_raw\n",
      "\n",
      "Processing: AD_2006-0069R1_1.pdf...\n",
      "Successfully processed: AD_2006-0069R1_1.pdf\n",
      "Successfully saved extracted text to: C:\\Users\\zdrop\\PycharmProjects\\BRUMBRUMWEEEE\\sample\\output_raw\\AD_2006-0069R1_1.json\n",
      "\n",
      "Processing: AD_2007-0036R1_1.pdf...\n",
      "Successfully processed: AD_2007-0036R1_1.pdf\n",
      "Successfully saved extracted text to: C:\\Users\\zdrop\\PycharmProjects\\BRUMBRUMWEEEE\\sample\\output_raw\\AD_2007-0036R1_1.json\n",
      "\n",
      "Processing: AD_2014-0270R1_1.pdf...\n",
      "Successfully processed: AD_2014-0270R1_1.pdf\n",
      "Successfully saved extracted text to: C:\\Users\\zdrop\\PycharmProjects\\BRUMBRUMWEEEE\\sample\\output_raw\\AD_2014-0270R1_1.json\n",
      "\n",
      "Processing: AD_2023-0205_1.pdf...\n",
      "Successfully processed: AD_2023-0205_1.pdf\n",
      "Successfully saved extracted text to: C:\\Users\\zdrop\\PycharmProjects\\BRUMBRUMWEEEE\\sample\\output_raw\\AD_2023-0205_1.json\n",
      "\n",
      "Processing: AD_US-2000-14-14_1.pdf...\n",
      "Successfully processed: AD_US-2000-14-14_1.pdf\n",
      "Successfully saved extracted text to: C:\\Users\\zdrop\\PycharmProjects\\BRUMBRUMWEEEE\\sample\\output_raw\\AD_US-2000-14-14_1.json\n",
      "Skipping non-PDF file: output_raw\n",
      "\n",
      "--- Processing Complete ---\n",
      "Successfully processed and saved: 5 files.\n",
      "Failed to process or save: 0 files.\n"
     ]
    }
   ],
   "source": [
    "import os\n",
    "import json\n",
    "from google.cloud import documentai\n",
    "from google.api_core.client_options import ClientOptions\n",
    "\n",
    "# --- Configuration ---\n",
    "project_id = \"mthesis-450913\"  # Your Google Cloud Project ID\n",
    "location = \"us\"  # Processor Location (e.g., \"us\" or \"eu\")\n",
    "processor_id = \"9aed4672acfd8a7a\"  # Your Document AI Processor ID\n",
    "mime_type = \"application/pdf\"\n",
    "\n",
    "# --- Define Input and Output Directories ---\n",
    "# IMPORTANT: Replace these with the actual paths to your directories\n",
    "input_directory = r\"C:\\Users\\zdrop\\PycharmProjects\\BRUMBRUMWEEEE\\sample\"  # Directory containing your PDF files\n",
    "output_directory = r\"C:\\Users\\zdrop\\PycharmProjects\\BRUMBRUMWEEEE\\sample\\output_raw\" # Directory where JSON files will be saved\n",
    "\n",
    "# Ensure output directory exists, create if it doesn't\n",
    "if not os.path.exists(output_directory):\n",
    "    os.makedirs(output_directory)\n",
    "    print(f\"Created output directory: {output_directory}\")\n",
    "\n",
    "def process_document_ocr_to_text(project_id: str, location: str, processor_id: str, file_path: str, mime_type: str) -> str | None:\n",
    "    \"\"\"\n",
    "    Processes a single document using Document AI OCR and returns the extracted text.\n",
    "    \"\"\"\n",
    "    try:\n",
    "        # You must set the api_endpoint if you use a location other than \"us\".\n",
    "        opts = ClientOptions(api_endpoint=f\"{location}-documentai.googleapis.com\")\n",
    "        client = documentai.DocumentProcessorServiceClient(client_options=opts)\n",
    "\n",
    "        name = f\"projects/{project_id}/locations/{location}/processors/{processor_id}\"\n",
    "\n",
    "        with open(file_path, \"rb\") as f:\n",
    "            image_content = f.read()\n",
    "\n",
    "        raw_document = documentai.RawDocument(content=image_content, mime_type=mime_type)\n",
    "        request = documentai.ProcessRequest(name=name, raw_document=raw_document)\n",
    "\n",
    "        result = client.process_document(request=request)\n",
    "        print(f\"Successfully processed: {os.path.basename(file_path)}\")\n",
    "        return result.document.text\n",
    "    except Exception as e:\n",
    "        print(f\"Error processing document {os.path.basename(file_path)}: {e}\")\n",
    "        return None\n",
    "\n",
    "def main():\n",
    "    processed_files = 0\n",
    "    failed_files = 0\n",
    "\n",
    "    print(f\"Starting to process PDF files from: {input_directory}\")\n",
    "    print(f\"Output JSON files will be saved to: {output_directory}\")\n",
    "\n",
    "    for filename in os.listdir(input_directory):\n",
    "        if filename.lower().endswith(\".pdf\"):\n",
    "            pdf_file_path = os.path.join(input_directory, filename)\n",
    "            \n",
    "            print(f\"\\nProcessing: {filename}...\")\n",
    "            extracted_text = process_document_ocr_to_text(\n",
    "                project_id, location, processor_id, pdf_file_path, mime_type\n",
    "            )\n",
    "\n",
    "            if extracted_text:\n",
    "                # Create a dictionary for the JSON content\n",
    "                json_data = {\"text\": extracted_text}\n",
    "                \n",
    "                # Construct the output JSON filename\n",
    "                base_filename = os.path.splitext(filename)[0]\n",
    "                json_filename = f\"{base_filename}.json\"\n",
    "                json_file_path = os.path.join(output_directory, json_filename)\n",
    "\n",
    "                try:\n",
    "                    with open(json_file_path, \"w\", encoding=\"utf-8\") as json_file:\n",
    "                        json.dump(json_data, json_file, ensure_ascii=False, indent=4)\n",
    "                    print(f\"Successfully saved extracted text to: {json_file_path}\")\n",
    "                    processed_files += 1\n",
    "                except IOError as e:\n",
    "                    print(f\"Error writing JSON file {json_file_path}: {e}\")\n",
    "                    failed_files += 1\n",
    "            else:\n",
    "                print(f\"Failed to extract text from: {filename}\")\n",
    "                failed_files += 1\n",
    "        else:\n",
    "            print(f\"Skipping non-PDF file: {filename}\")\n",
    "\n",
    "    print(f\"\\n--- Processing Complete ---\")\n",
    "    print(f\"Successfully processed and saved: {processed_files} files.\")\n",
    "    print(f\"Failed to process or save: {failed_files} files.\")\n",
    "main()"
   ],
   "metadata": {
    "collapsed": false,
    "ExecuteTime": {
     "end_time": "2025-06-11T14:00:05.954886500Z",
     "start_time": "2025-06-11T13:59:38.990130700Z"
    }
   },
   "id": "dab30dc27366326a",
   "execution_count": 7
  },
  {
   "cell_type": "code",
   "outputs": [],
   "source": [],
   "metadata": {
    "collapsed": false
   },
   "id": "647aee4ad5c4fa2a"
  }
 ],
 "metadata": {
  "kernelspec": {
   "display_name": "Python 3",
   "language": "python",
   "name": "python3"
  },
  "language_info": {
   "codemirror_mode": {
    "name": "ipython",
    "version": 2
   },
   "file_extension": ".py",
   "mimetype": "text/x-python",
   "name": "python",
   "nbconvert_exporter": "python",
   "pygments_lexer": "ipython2",
   "version": "2.7.6"
  }
 },
 "nbformat": 4,
 "nbformat_minor": 5
}
