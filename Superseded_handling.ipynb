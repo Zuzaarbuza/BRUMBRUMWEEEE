{
 "cells": [
  {
   "cell_type": "code",
   "outputs": [],
   "source": [
    "import os\n",
    "import time\n",
    "import base64\n",
    "from pathlib import Path\n",
    "from google.generativeai import GenerativeModel\n",
    "from google.generativeai import configure\n",
    "import google.ai.generativelanguage as glm\n",
    "from dotenv import load_dotenv\n",
    "import base64\n",
    "\n",
    "load_dotenv()\n",
    "api_key = os.getenv(\"GEMINI_API_KEY\")\n",
    "\n",
    "if not api_key:\n",
    "    raise ValueError(\"GEMINI_API_KEY not found in environment variables.  \"\n",
    "                     \"Make sure you have a .env file with GEMINI_API_KEY=<your_api_key>\")\n",
    "\n",
    "configure(api_key=api_key, )"
   ],
   "metadata": {
    "collapsed": false,
    "ExecuteTime": {
     "end_time": "2025-02-13T14:07:07.601879600Z",
     "start_time": "2025-02-13T14:07:04.033615300Z"
    }
   },
   "id": "2eda570620d7c3f3",
   "execution_count": 5
  },
  {
   "cell_type": "code",
   "outputs": [],
   "source": [
    "def encode_pdf(pdf_path):\n",
    "    \"\"\"Encodes a PDF file to a base64 string.\"\"\"\n",
    "    try:\n",
    "        with open(pdf_path, \"rb\") as pdf_file:\n",
    "            pdf_data = pdf_file.read()\n",
    "            encoded_string = base64.b64encode(pdf_data).decode(\"utf-8\")\n",
    "        return encoded_string\n",
    "    except Exception as e:\n",
    "        print(f\"Error encoding {pdf_path}: {e}\")\n",
    "        return None"
   ],
   "metadata": {
    "collapsed": false,
    "ExecuteTime": {
     "end_time": "2025-02-13T14:07:00.885466800Z",
     "start_time": "2025-02-13T14:07:00.834514100Z"
    }
   },
   "id": "3a720a3a8b36e58f",
   "execution_count": 4
  },
  {
   "cell_type": "code",
   "execution_count": 3,
   "id": "initial_id",
   "metadata": {
    "collapsed": true,
    "ExecuteTime": {
     "end_time": "2025-02-13T13:29:51.731043200Z",
     "start_time": "2025-02-13T13:29:51.726087700Z"
    }
   },
   "outputs": [],
   "source": [
    "def analyze_pdf(pdf_path, encoded_string):\n",
    "    \"\"\"Analyzes a PDF file using Gemini to determine if it's superseded, a cancellation notice, or normal and provides a short justification.\"\"\"\n",
    "    if not encoded_string:\n",
    "        return \"Encoding Error\", None\n",
    "\n",
    "    try:\n",
    "        document_part = glm.Part(\n",
    "            inline_data=glm.Blob(\n",
    "                mime_type=\"application/pdf\",\n",
    "                data=base64.b64decode(encoded_string)\n",
    "            )\n",
    "        )\n",
    "\n",
    "        model = GenerativeModel('gemini-1.5-flash')\n",
    "\n",
    "        prompt = \"\"\"Analyze the content of this PDF document, which is an airworthiness directive.\n",
    "        Determine if it has been superseded by a newer AD or if it's still a current, active AD.\n",
    "\n",
    "        Respond in the following format:\n",
    "        Classification: [Superseded/Normal]\n",
    "        Justification: [Short 1-2 sentence explanation of why you classified it as such, pointing to clues in the text].\n",
    "\n",
    "        For example:\n",
    "        Classification: Superseded\n",
    "        Justification: This AD is marked as superseded in many sections of the document. Therefore it is outdated.\n",
    "\n",
    "        If you are unsure, respond with \"Normal\" and a suitable justification. Be careful that you don't mark ADs that only supersede other ADs as superseded, when they have not yet been superseded themselves.\n",
    "        \"\"\"\n",
    "\n",
    "        responses = model.generate_content([prompt, document_part], stream=False)\n",
    "        response_text = responses.text.strip()\n",
    "\n",
    "        # Extract Classification and Justification\n",
    "        try:\n",
    "            classification = response_text.split(\"Classification:\")[1].split(\"Justification:\")[0].strip().replace(\"-\",\"\").strip()\n",
    "            justification = response_text.split(\"Justification:\")[1].strip()\n",
    "        except IndexError:  # Handle cases where parsing fails\n",
    "            print(f\"Error parsing Gemini response for {pdf_path}.  Defaulting to Normal.\")\n",
    "            return \"Normal\", \"Unable to definitively determine from the text.  Assuming it is a normal AD.\"\n",
    "\n",
    "        # Validation:\n",
    "        if classification not in [\"Superseded\", \"Normal\"]:\n",
    "            print(f\"Unexpected classification from Gemini: {classification}.  Treating as Normal.\")\n",
    "            return \"Normal\", \"Gemini returned an invalid classification; defaulting to Normal.\"\n",
    "\n",
    "        return classification, justification\n",
    "\n",
    "    except Exception as e:\n",
    "        print(f\"Error analyzing {pdf_path}: {e}\")\n",
    "        return \"Error\", str(e)  # Return error type as justification\n"
   ]
  },
  {
   "cell_type": "code",
   "outputs": [],
   "source": [
    "def process_directory(directory):\n",
    "    \"\"\"Processes all PDF files in a directory and returns a list of results.\"\"\"\n",
    "    results = []\n",
    "    for filename in os.listdir(directory):\n",
    "        if filename.endswith(\".pdf\"):\n",
    "            filepath = os.path.join(directory, filename)\n",
    "            encoded_string = encode_pdf(filepath)\n",
    "            if encoded_string:\n",
    "                classification, justification = analyze_pdf(filepath, encoded_string)\n",
    "                results.append((filename, classification, justification))\n",
    "            else:\n",
    "                results.append((filename, \"Encoding Error\", None))\n",
    "    return results"
   ],
   "metadata": {
    "collapsed": false,
    "ExecuteTime": {
     "end_time": "2025-02-13T13:29:53.076214500Z",
     "start_time": "2025-02-13T13:29:53.070204200Z"
    }
   },
   "id": "b44b606830f21d48",
   "execution_count": 4
  },
  {
   "cell_type": "code",
   "outputs": [
    {
     "name": "stdout",
     "output_type": "stream",
     "text": [
      "AD_2006-0112R1_1.pdf:\n",
      "  Classification: Superseded\n",
      "  Justification: The document itself states that it \"revises and replaces EASA AD 2006-0112 dated 15 May 2006,\" indicating it has been superseded by a later revision.\n",
      "AD_2006-0129_1.pdf:\n",
      "  Classification: Superseded\n",
      "  Justification: The document is clearly marked \"SUPERSEDED\" across multiple sections.  This indicates that it has been replaced by a later, more current Airworthiness Directive.\n",
      "AD_2010-0127_1.pdf:\n",
      "  Classification: Normal\n",
      "  Justification: The document states \"Supersedure: None\" indicating that it has not been superseded by another AD at the time of issuance.  There is no mention of supersedure within the body of the document itself.\n"
     ]
    }
   ],
   "source": [
    "# Example usage\n",
    "directory_to_process = r\"C:\\Users\\zdrop\\PycharmProjects\\BRUMBRUMWEEEE\\ADs\"  # Replace with your directory\n",
    "analysis_results = process_directory(directory_to_process)\n",
    "\n",
    "# Print results\n",
    "for filename, classification, justification in analysis_results:\n",
    "    print(f\"{filename}:\")\n",
    "    print(f\"  Classification: {classification}\")\n",
    "    if justification:\n",
    "        print(f\"  Justification: {justification}\")\n",
    "    else:\n",
    "        print(f\"  Justification: (See error message)\")"
   ],
   "metadata": {
    "collapsed": false,
    "ExecuteTime": {
     "end_time": "2025-02-13T13:30:02.786057100Z",
     "start_time": "2025-02-13T13:29:56.979306800Z"
    }
   },
   "id": "15105cceb91c558f",
   "execution_count": 5
  },
  {
   "cell_type": "code",
   "outputs": [],
   "source": [
    "from pydantic import BaseModel, Field\n",
    "from google.generativeai import GenerativeModel, GenerationConfig\n",
    "\n",
    "\n",
    "class Classification(BaseModel):\n",
    "    superseded: bool = Field(..., description=\"true means ...\")\n",
    "    canceled: bool = Field(..., description=\"\")\n",
    "    language: bool = Field(..., description=\"true means Eng ...\")\n",
    "    reason: str = Field(..., description=\"Provide a plan how you want to classify the document and explained what will be the foundation of your classification.\")\n",
    "\n",
    "    \n",
    "#json_schema = Classification.model_json_schema()\n",
    "\n",
    "\n",
    "#print(json_schema)\n",
    "\n",
    "\n",
    "encoded_string = encode_pdf(r\"C:\\Users\\zdrop\\PycharmProjects\\BRUMBRUMWEEEE\\ADs\\AD_F-1995-129-013_2.pdf\")\n",
    "\n",
    "\n",
    "model = GenerativeModel(generation_config=GenerationConfig(response_schema=Classification,\n",
    "                                                           response_mime_type=\"application/json\", temperature=0), model_name='gemini-1.5-flash')\n",
    "\n",
    "responses = model.generate_content([\"Classify below\", encoded_string],stream=False)"
   ],
   "metadata": {
    "collapsed": false,
    "ExecuteTime": {
     "end_time": "2025-02-13T14:23:47.861430100Z",
     "start_time": "2025-02-13T14:23:46.567346400Z"
    }
   },
   "id": "f8e6348856c8bf76",
   "execution_count": 16
  },
  {
   "cell_type": "code",
   "outputs": [
    {
     "name": "stdout",
     "output_type": "stream",
     "text": [
      "{\"canceled\": false, \"language\": true, \"reason\": \"The provided text is a PDF file encoded in base64.  To classify it, I would need to decode the base64 string, extract the text content, and then apply a text classification model.  The classification would depend on the content of the PDF; for example, it could be classified as a document, report, form, or other type based on its textual features and structure.\", \"superseded\": false}\n"
     ]
    }
   ],
   "source": [
    "print(responses.text)"
   ],
   "metadata": {
    "collapsed": false,
    "ExecuteTime": {
     "end_time": "2025-02-13T14:23:53.180746200Z",
     "start_time": "2025-02-13T14:23:53.160824Z"
    }
   },
   "id": "578c2e5e8cb317e2",
   "execution_count": 17
  }
 ],
 "metadata": {
  "kernelspec": {
   "display_name": "Python 3",
   "language": "python",
   "name": "python3"
  },
  "language_info": {
   "codemirror_mode": {
    "name": "ipython",
    "version": 2
   },
   "file_extension": ".py",
   "mimetype": "text/x-python",
   "name": "python",
   "nbconvert_exporter": "python",
   "pygments_lexer": "ipython2",
   "version": "2.7.6"
  }
 },
 "nbformat": 4,
 "nbformat_minor": 5
}
