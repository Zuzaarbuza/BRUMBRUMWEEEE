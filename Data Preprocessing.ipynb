{
 "cells": [
  {
   "cell_type": "markdown",
   "source": [
    "**Downloading Data from the Database with links from Webscraper**"
   ],
   "metadata": {
    "collapsed": false
   },
   "id": "5a40d189e7cbc92e"
  },
  {
   "cell_type": "code",
   "outputs": [],
   "source": [
    "import pandas as pd\n",
    "import requests\n",
    "import os\n",
    "\n",
    "# Function to download files from the links in the Excel file\n",
    "def download_files_from_excel(excel_file, output_folder):\n",
    "    # Read the Excel file\n",
    "    df = pd.read_excel(excel_file, engine='openpyxl')\n",
    "    for index, row in df.iterrows():\n",
    "        file_url = row['Links-href']  # Adjust column name if different\n",
    "        file_name = os.path.basename(file_url)  # Extract file name from URL\n",
    "        \n",
    "        # Create the full path for saving the file\n",
    "        file_path = os.path.join(output_folder, file_name)\n",
    "        \n",
    "        try:\n",
    "            # Download the file\n",
    "            response = requests.get(file_url)\n",
    "            response.raise_for_status()  # Raise an exception for HTTP errors\n",
    "            \n",
    "            # Write the file content to disk\n",
    "            with open(file_path, 'wb') as f:\n",
    "                f.write(response.content)\n",
    "            \n",
    "            print(f\"Downloaded: {file_name}\")\n",
    "        except requests.exceptions.RequestException as e:\n",
    "            print(f\"Failed to download {file_name}: {e}\")\n",
    "\n",
    "def add_pdf_extension_to_files(folder_path):\n",
    "    # Iterate over all files in the folder\n",
    "    for filename in os.listdir(folder_path):\n",
    "        file_path = os.path.join(folder_path, filename)\n",
    "        \n",
    "        # Check if it's a file and does not already have an extension\n",
    "        if os.path.isfile(file_path) and '.' not in filename:\n",
    "            new_file_path = f\"{file_path}.pdf\"  # Append .pdf to the filename\n",
    "            os.rename(file_path, new_file_path)  # Rename the file\n",
    "            print(f\"Renamed: {filename} -> {os.path.basename(new_file_path)}\")\n",
    "        else:\n",
    "            print(f\"Skipped: {filename}\")\n",
    "\n",
    "# Specify the folders containing the files\n",
    "folder_path = r'C:\\Users\\zdrop\\OneDrive - TU Wien\\MASTER THESIS\\ADs\\A350' \n",
    "excel_file = r'C:\\Users\\zdrop\\UNI\\masters\\Thesis_files\\AD_Links_320.xlsx'\n",
    "output_folder = r'C:\\Users\\zdrop\\OneDrive - TU Wien\\MASTER THESIS\\ADs\\A320'\n",
    "\n",
    "# Call the function\n",
    "#download_files_from_excel(excel_file, output_folder)\n",
    "#add_pdf_extension_to_files(folder_path)"
   ],
   "metadata": {
    "collapsed": false
   },
   "id": "88cc9085bc33ea64"
  },
  {
   "cell_type": "markdown",
   "source": [
    "**Removing non-english files**\n",
    "- put all files in a separate directory"
   ],
   "metadata": {
    "collapsed": false
   },
   "id": "63b8397277e871f0"
  },
  {
   "cell_type": "code",
   "outputs": [],
   "source": [
    "import os\n",
    "import shutil\n",
    "from langdetect import detect\n",
    "import fitz  # PyMuPDF\n",
    "\n",
    "# === CONFIGURATION ===\n",
    "source_dir = r\"C:\\Users\\zdrop\\OneDrive - TU Wien\\MASTER THESIS\\ADs\\A320\"\n",
    "non_english_dir = os.path.join(source_dir,r\"C:\\Users\\zdrop\\OneDrive - TU Wien\\MASTER THESIS\\ADs\\non_english\")\n",
    "char_threshold = 1000  # Number of characters to use for detection\n",
    "\n",
    "# Create target folder if it doesn't exist\n",
    "os.makedirs(non_english_dir, exist_ok=True)\n",
    "\n",
    "# === FUNCTION TO EXTRACT TEXT FROM PDF ===\n",
    "def extract_text(pdf_path, max_chars=1000):\n",
    "    try:\n",
    "        doc = fitz.open(pdf_path)\n",
    "        text = \"\"\n",
    "        for page in doc:\n",
    "            text += page.get_text()\n",
    "            if len(text) >= max_chars:\n",
    "                break\n",
    "        return text[:max_chars]\n",
    "    except Exception as e:\n",
    "        print(f\"Error reading {pdf_path}: {e}\")\n",
    "        return \"\"\n",
    "\n",
    "# === MAIN LOOP ===\n",
    "for filename in os.listdir(source_dir):\n",
    "    if filename.lower().endswith(\".pdf\"):\n",
    "        file_path = os.path.join(source_dir, filename)\n",
    "        sample_text = extract_text(file_path)\n",
    "\n",
    "        if not sample_text.strip():\n",
    "            print(f\"Skipping (empty or unreadable): {filename}\")\n",
    "            continue\n",
    "\n",
    "        try:\n",
    "            lang = detect(sample_text)\n",
    "            if lang != \"en\":\n",
    "                print(f\"Detected {lang} – moving: {filename}\")\n",
    "                shutil.move(file_path, os.path.join(non_english_dir, filename))\n",
    "            else:\n",
    "                print(f\"Detected English – keeping: {filename}\")\n",
    "        except Exception as e:\n",
    "            print(f\"Language detection failed for {filename}: {e}\")"
   ],
   "metadata": {
    "collapsed": false
   },
   "id": "26ee021bf8ad36fd",
   "execution_count": null
  }
 ],
 "metadata": {
  "kernelspec": {
   "display_name": "Python 3",
   "language": "python",
   "name": "python3"
  },
  "language_info": {
   "codemirror_mode": {
    "name": "ipython",
    "version": 2
   },
   "file_extension": ".py",
   "mimetype": "text/x-python",
   "name": "python",
   "nbconvert_exporter": "python",
   "pygments_lexer": "ipython2",
   "version": "2.7.6"
  }
 },
 "nbformat": 4,
 "nbformat_minor": 5
}
