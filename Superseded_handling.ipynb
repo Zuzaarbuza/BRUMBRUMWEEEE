{
 "cells": [
  {
   "cell_type": "code",
   "outputs": [],
   "source": [
    "import os\n",
    "import time\n",
    "import base64\n",
    "from pathlib import Path\n",
    "from google.generativeai import GenerativeModel\n",
    "from google.generativeai import configure\n",
    "import google.ai.generativelanguage as glm\n",
    "from dotenv import load_dotenv\n",
    "import base64\n",
    "\n",
    "load_dotenv()\n",
    "api_key = os.getenv(\"GEMINI_API_KEY\")\n",
    "\n",
    "if not api_key:\n",
    "    raise ValueError(\"GEMINI_API_KEY not found in environment variables.  \"\n",
    "                     \"Make sure you have a .env file with GEMINI_API_KEY=<your_api_key>\")\n",
    "\n",
    "configure(api_key=api_key)"
   ],
   "metadata": {
    "collapsed": false,
    "ExecuteTime": {
     "end_time": "2025-02-07T13:56:04.527388200Z",
     "start_time": "2025-02-07T13:56:04.517847500Z"
    }
   },
   "id": "2eda570620d7c3f3",
   "execution_count": 6
  },
  {
   "cell_type": "code",
   "outputs": [],
   "source": [
    "def encode_pdf(pdf_path):\n",
    "    \"\"\"Encodes a PDF file to a base64 string.\"\"\"\n",
    "    try:\n",
    "        with open(pdf_path, \"rb\") as pdf_file:\n",
    "            pdf_data = pdf_file.read()\n",
    "            encoded_string = base64.b64encode(pdf_data).decode(\"utf-8\")\n",
    "        return encoded_string\n",
    "    except Exception as e:\n",
    "        print(f\"Error encoding {pdf_path}: {e}\")\n",
    "        return None"
   ],
   "metadata": {
    "collapsed": false,
    "ExecuteTime": {
     "end_time": "2025-02-07T13:56:12.331769300Z",
     "start_time": "2025-02-07T13:56:12.326294400Z"
    }
   },
   "id": "3a720a3a8b36e58f",
   "execution_count": 7
  },
  {
   "cell_type": "code",
   "execution_count": 11,
   "id": "initial_id",
   "metadata": {
    "collapsed": true,
    "ExecuteTime": {
     "end_time": "2025-02-07T14:01:10.604499500Z",
     "start_time": "2025-02-07T14:01:10.600930500Z"
    }
   },
   "outputs": [],
   "source": [
    "def analyze_pdf(pdf_path, encoded_string):\n",
    "    \"\"\"Analyzes a PDF file using Gemini to determine if it's superseded, a cancellation notice, or normal and provides a short justification.\"\"\"\n",
    "    if not encoded_string:\n",
    "        return \"Encoding Error\", None\n",
    "\n",
    "    try:\n",
    "        document_part = glm.Part(\n",
    "            inline_data=glm.Blob(\n",
    "                mime_type=\"application/pdf\",\n",
    "                data=base64.b64decode(encoded_string)\n",
    "            )\n",
    "        )\n",
    "\n",
    "        model = GenerativeModel('gemini-1.5-flash')\n",
    "\n",
    "        prompt = \"\"\"Analyze the content of this PDF document, which is an airworthiness directive.\n",
    "        Determine if it has been superseded by a newer AD or if it's still a current, active AD.\n",
    "\n",
    "        Respond in the following format:\n",
    "        Classification: [Superseded/Normal]\n",
    "        Justification: [Short 1-2 sentence explanation of why you classified it as such, pointing to clues in the text].\n",
    "\n",
    "        For example:\n",
    "        Classification: Superseded\n",
    "        Justification: This AD is marked as superseded in many sections of the document. Therefore it is outdated.\n",
    "\n",
    "        If you are unsure, respond with \"Normal\" and a suitable justification. Be careful that you don't mark ADs that only supersede other ADs as superseded, when they have not yet been superseded themselves.\n",
    "        \"\"\"\n",
    "\n",
    "        responses = model.generate_content([prompt, document_part], stream=False)\n",
    "        response_text = responses.text.strip()\n",
    "\n",
    "        # Extract Classification and Justification\n",
    "        try:\n",
    "            classification = response_text.split(\"Classification:\")[1].split(\"Justification:\")[0].strip().replace(\"-\",\"\").strip()\n",
    "            justification = response_text.split(\"Justification:\")[1].strip()\n",
    "        except IndexError:  # Handle cases where parsing fails\n",
    "            print(f\"Error parsing Gemini response for {pdf_path}.  Defaulting to Normal.\")\n",
    "            return \"Normal\", \"Unable to definitively determine from the text.  Assuming it is a normal AD.\"\n",
    "\n",
    "        # Validation:\n",
    "        if classification not in [\"Superseded\", \"Normal\"]:\n",
    "            print(f\"Unexpected classification from Gemini: {classification}.  Treating as Normal.\")\n",
    "            return \"Normal\", \"Gemini returned an invalid classification; defaulting to Normal.\"\n",
    "\n",
    "        return classification, justification\n",
    "\n",
    "    except Exception as e:\n",
    "        print(f\"Error analyzing {pdf_path}: {e}\")\n",
    "        return \"Error\", str(e)  # Return error type as justification\n"
   ]
  },
  {
   "cell_type": "code",
   "outputs": [],
   "source": [
    "def process_directory(directory):\n",
    "    \"\"\"Processes all PDF files in a directory and returns a list of results.\"\"\"\n",
    "    results = []\n",
    "    for filename in os.listdir(directory):\n",
    "        if filename.endswith(\".pdf\"):\n",
    "            filepath = os.path.join(directory, filename)\n",
    "            encoded_string = encode_pdf(filepath)\n",
    "            if encoded_string:\n",
    "                classification, justification = analyze_pdf(filepath, encoded_string)\n",
    "                results.append((filename, classification, justification))\n",
    "            else:\n",
    "                results.append((filename, \"Encoding Error\", None))\n",
    "    return results"
   ],
   "metadata": {
    "collapsed": false,
    "ExecuteTime": {
     "end_time": "2025-02-07T14:01:14.484096700Z",
     "start_time": "2025-02-07T14:01:14.481630700Z"
    }
   },
   "id": "b44b606830f21d48",
   "execution_count": 12
  },
  {
   "cell_type": "code",
   "outputs": [
    {
     "name": "stdout",
     "output_type": "stream",
     "text": [
      "AD_2006-0112R1_1.pdf:\n",
      "  Classification: Superseded\n",
      "  Justification: The document itself states that it \"revises and replaces EASA AD 2006-0112 dated 15 May 2006\".  A newer AD has therefore superseded this one.\n",
      "AD_2006-0129_1.pdf:\n",
      "  Classification: Superseded\n",
      "  Justification: The document is clearly marked \"SUPERSEDED\" across multiple pages.  The supersedure information indicates that this AD (2006-0129) replaced an earlier AD (F-2005-069(B)).\n",
      "AD_2010-0127_1.pdf:\n",
      "  Classification: Normal\n",
      "  Justification: The AD states \"Supersedure: None\" indicating it hasn't been superseded.  The text also mentions that it supersedes other ADs,  further supporting its current status.\n"
     ]
    }
   ],
   "source": [
    "# Example usage\n",
    "directory_to_process = r\"C:\\Users\\zdrop\\PycharmProjects\\BRUMBRUMWEEEE\\ADs\"  # Replace with your directory\n",
    "analysis_results = process_directory(directory_to_process)\n",
    "\n",
    "# Print results\n",
    "for filename, classification, justification in analysis_results:\n",
    "    print(f\"{filename}:\")\n",
    "    print(f\"  Classification: {classification}\")\n",
    "    if justification:\n",
    "        print(f\"  Justification: {justification}\")\n",
    "    else:\n",
    "        print(f\"  Justification: (See error message)\")"
   ],
   "metadata": {
    "collapsed": false,
    "ExecuteTime": {
     "end_time": "2025-02-07T14:01:24.064117100Z",
     "start_time": "2025-02-07T14:01:16.849639600Z"
    }
   },
   "id": "15105cceb91c558f",
   "execution_count": 13
  },
  {
   "cell_type": "code",
   "outputs": [],
   "source": [],
   "metadata": {
    "collapsed": false
   },
   "id": "f8e6348856c8bf76"
  }
 ],
 "metadata": {
  "kernelspec": {
   "display_name": "Python 3",
   "language": "python",
   "name": "python3"
  },
  "language_info": {
   "codemirror_mode": {
    "name": "ipython",
    "version": 2
   },
   "file_extension": ".py",
   "mimetype": "text/x-python",
   "name": "python",
   "nbconvert_exporter": "python",
   "pygments_lexer": "ipython2",
   "version": "2.7.6"
  }
 },
 "nbformat": 4,
 "nbformat_minor": 5
}
