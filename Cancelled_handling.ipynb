{
 "cells": [
  {
   "cell_type": "code",
   "outputs": [],
   "source": [
    "import os\n",
    "import base64\n",
    "from google import genai\n",
    "from dotenv import load_dotenv\n",
    "import enum\n",
    "import json\n",
    "\n",
    "# Load the API key from the .env file\n",
    "load_dotenv()\n",
    "api_key = os.getenv(\"GEMINI_API_KEY\")\n",
    "\n",
    "# Set up the Gemini API client\n",
    "client = genai.Client(api_key=api_key)\n",
    "\n",
    "\n",
    "class ADClassification(enum.Enum):  # Define Enum\n",
    "    SUPERSEDED = \"Superseded\"\n",
    "    NORMAL = \"Normal\"\n",
    "    ERROR = \"Error\"\n",
    "    INVALID_JSON = \"Invalid JSON\"  # Add for JSON errors\n",
    "    INVALID_CLASSIFICATION = \"Invalid Classification\"\n"
   ],
   "metadata": {
    "collapsed": false,
    "ExecuteTime": {
     "end_time": "2025-05-07T12:43:13.562924100Z",
     "start_time": "2025-05-07T12:43:10.855525200Z"
    }
   },
   "id": "d7a3100e7b52f8",
   "execution_count": 1
  },
  {
   "cell_type": "code",
   "outputs": [],
   "source": [
    " # Function to encode the PDF file to base64\n",
    "def encode_pdf(pdf_path):\n",
    "    \"\"\"Encodes a PDF file to a base64 string.\"\"\"\n",
    "    try:\n",
    "        with open(pdf_path, \"rb\") as pdf_file:\n",
    "            pdf_data = pdf_file.read()\n",
    "            encoded_string = base64.b64encode(pdf_data).decode(\"utf-8\")\n",
    "        return encoded_string\n",
    "    except Exception as e:\n",
    "        print(f\"Error encoding {pdf_path}: {e}\")\n",
    "        return None"
   ],
   "metadata": {
    "collapsed": false,
    "ExecuteTime": {
     "end_time": "2025-02-14T12:27:08.193633200Z",
     "start_time": "2025-02-14T12:27:08.153527500Z"
    }
   },
   "id": "9499aec29f54712",
   "execution_count": 5
  },
  {
   "cell_type": "code",
   "execution_count": 7,
   "id": "initial_id",
   "metadata": {
    "collapsed": true,
    "ExecuteTime": {
     "end_time": "2025-02-14T12:28:23.078061100Z",
     "start_time": "2025-02-14T12:28:23.069377800Z"
    }
   },
   "outputs": [],
   "source": [
    "def classify_pdf(file_path, prompt):\n",
    "    encoded_pdf = encode_pdf(file_path)\n",
    "    if not encoded_pdf:\n",
    "        return \"Error: Unable to encode PDF\"\n",
    "    contents = f\"{prompt}\\n{encoded_pdf}\"\n",
    "\n",
    "    response = client.models.generate_content(\n",
    "        model='gemini-2.0-flash',\n",
    "        contents=contents,\n",
    "        config={\n",
    "            'response_mime_type': 'application/json',\n",
    "        },\n",
    "    )\n",
    "\n",
    "    try:\n",
    "        response_json = json.loads(response.text)\n",
    "        classification_str = response_json.get(\"classification\")\n",
    "        justification = response_json.get(\"justification\")\n",
    "\n",
    "        try:\n",
    "            classification = ADClassification(classification_str)  # Convert to Enum\n",
    "        except ValueError:\n",
    "            classification = ADClassification.INVALID_CLASSIFICATION  # Enum for invalid\n",
    "            justification = \"LLM returned an invalid classification string.\"\n",
    "\n",
    "        return classification, justification\n",
    "\n",
    "    except json.JSONDecodeError:\n",
    "        return ADClassification.INVALID_JSON, \"Invalid JSON response from LLM\"  # Enum\n",
    "    except Exception as e:\n",
    "        return ADClassification.ERROR, f\"An error occurred: {e}\"  # Enum"
   ]
  },
  {
   "cell_type": "code",
   "outputs": [],
   "source": [
    "def process_pdf_directory(pdf_directory, prompt, classify_pdf_func):\n",
    "    if not os.path.exists(pdf_directory):\n",
    "        print(f\"Error: Directory '{pdf_directory}' not found.\")\n",
    "        return {}  # Return empty dictionary\n",
    "\n",
    "    results = {}\n",
    "    try:\n",
    "        for filename in os.listdir(pdf_directory):\n",
    "            if filename.endswith('.pdf'):\n",
    "                file_path = os.path.join(pdf_directory, filename)\n",
    "                classification, justification = classify_pdf_func(file_path, prompt)\n",
    "                results[filename] = {\"classification\": classification, \"justification\": justification}\n",
    "\n",
    "                print(f'{filename}: {classification.name}')\n",
    "                if justification:\n",
    "                    print(f'  Justification: {justification}')\n",
    "                print(\"-\" * 20)\n",
    "\n",
    "    except Exception as e: # Catch any other error\n",
    "        print(f\"An error occurred during directory processing: {e}\")\n",
    "        return {} # Return empty dictionary\n",
    "\n",
    "    return results"
   ],
   "metadata": {
    "collapsed": false,
    "ExecuteTime": {
     "end_time": "2025-02-14T12:39:20.097208300Z",
     "start_time": "2025-02-14T12:39:20.064564400Z"
    }
   },
   "id": "6cecbf47f2d44159",
   "execution_count": 9
  },
  {
   "cell_type": "code",
   "outputs": [
    {
     "name": "stdout",
     "output_type": "stream",
     "text": [
      "An error occurred during directory processing: 429 RESOURCE_EXHAUSTED. {'error': {'code': 429, 'message': 'Resource has been exhausted (e.g. check quota).', 'status': 'RESOURCE_EXHAUSTED'}}\n"
     ]
    }
   ],
   "source": [
    "pdf_directory = r\"C:\\Users\\zdrop\\PycharmProjects\\BRUMBRUMWEEEE\\Sample_of_a_sample\"\n",
    "\n",
    "prompt = \"\"\"\n",
    "Classify the following document as 'Superseded' or 'Normal' based on its content. Be careful that you don't mark ADs that only supersede other ADs as superseded, when they have not yet been superseded themselves. Respond in JSON format like this:\n",
    "\n",
    "```json\n",
    "{{\n",
    "  \"classification\": \"[Superseded/Normal]\",  # EXACTLY \"Superseded\" or \"Normal\"\n",
    "  \"justification\": \"[Explanation of why the document was classified as such]\"\n",
    "}}\n",
    "For example:\n",
    "        AD_2005-01234R1_1.pdf: SUPERSEDED\n",
    "          Justification: This AD is marked as superseded in many sections of the document. Therefore it is outdated.\n",
    "\"\"\"\n",
    "\n",
    "results = process_pdf_directory(pdf_directory, prompt, classify_pdf)  "
   ],
   "metadata": {
    "collapsed": false,
    "ExecuteTime": {
     "end_time": "2025-02-14T12:42:54.128059800Z",
     "start_time": "2025-02-14T12:42:53.407225500Z"
    }
   },
   "id": "7e4d805a0e22368b",
   "execution_count": 10
  },
  {
   "cell_type": "code",
   "outputs": [
    {
     "ename": "RefreshError",
     "evalue": "('invalid_grant: Bad Request', {'error': 'invalid_grant', 'error_description': 'Bad Request'})",
     "output_type": "error",
     "traceback": [
      "\u001B[1;31m---------------------------------------------------------------------------\u001B[0m",
      "\u001B[1;31mRefreshError\u001B[0m                              Traceback (most recent call last)",
      "Cell \u001B[1;32mIn[2], line 49\u001B[0m\n\u001B[0;32m     42\u001B[0m   \u001B[38;5;28;01mfor\u001B[39;00m chunk \u001B[38;5;129;01min\u001B[39;00m client\u001B[38;5;241m.\u001B[39mmodels\u001B[38;5;241m.\u001B[39mgenerate_content_stream(\n\u001B[0;32m     43\u001B[0m     model \u001B[38;5;241m=\u001B[39m model,\n\u001B[0;32m     44\u001B[0m     contents \u001B[38;5;241m=\u001B[39m contents,\n\u001B[0;32m     45\u001B[0m     config \u001B[38;5;241m=\u001B[39m generate_content_config,\n\u001B[0;32m     46\u001B[0m     ):\n\u001B[0;32m     47\u001B[0m     \u001B[38;5;28mprint\u001B[39m(chunk\u001B[38;5;241m.\u001B[39mtext, end\u001B[38;5;241m=\u001B[39m\u001B[38;5;124m\"\u001B[39m\u001B[38;5;124m\"\u001B[39m)\n\u001B[1;32m---> 49\u001B[0m \u001B[43mgenerate\u001B[49m\u001B[43m(\u001B[49m\u001B[43m)\u001B[49m\n",
      "Cell \u001B[1;32mIn[2], line 42\u001B[0m, in \u001B[0;36mgenerate\u001B[1;34m()\u001B[0m\n\u001B[0;32m     14\u001B[0m contents \u001B[38;5;241m=\u001B[39m [\n\u001B[0;32m     15\u001B[0m   types\u001B[38;5;241m.\u001B[39mContent(\n\u001B[0;32m     16\u001B[0m     role\u001B[38;5;241m=\u001B[39m\u001B[38;5;124m\"\u001B[39m\u001B[38;5;124muser\u001B[39m\u001B[38;5;124m\"\u001B[39m,\n\u001B[1;32m   (...)\u001B[0m\n\u001B[0;32m     20\u001B[0m   )\n\u001B[0;32m     21\u001B[0m ]\n\u001B[0;32m     22\u001B[0m generate_content_config \u001B[38;5;241m=\u001B[39m types\u001B[38;5;241m.\u001B[39mGenerateContentConfig(\n\u001B[0;32m     23\u001B[0m   temperature \u001B[38;5;241m=\u001B[39m \u001B[38;5;241m1\u001B[39m,\n\u001B[0;32m     24\u001B[0m   top_p \u001B[38;5;241m=\u001B[39m \u001B[38;5;241m0.95\u001B[39m,\n\u001B[1;32m   (...)\u001B[0m\n\u001B[0;32m     39\u001B[0m   )],\n\u001B[0;32m     40\u001B[0m )\n\u001B[1;32m---> 42\u001B[0m \u001B[43m\u001B[49m\u001B[38;5;28;43;01mfor\u001B[39;49;00m\u001B[43m \u001B[49m\u001B[43mchunk\u001B[49m\u001B[43m \u001B[49m\u001B[38;5;129;43;01min\u001B[39;49;00m\u001B[43m \u001B[49m\u001B[43mclient\u001B[49m\u001B[38;5;241;43m.\u001B[39;49m\u001B[43mmodels\u001B[49m\u001B[38;5;241;43m.\u001B[39;49m\u001B[43mgenerate_content_stream\u001B[49m\u001B[43m(\u001B[49m\n\u001B[0;32m     43\u001B[0m \u001B[43m  \u001B[49m\u001B[43mmodel\u001B[49m\u001B[43m \u001B[49m\u001B[38;5;241;43m=\u001B[39;49m\u001B[43m \u001B[49m\u001B[43mmodel\u001B[49m\u001B[43m,\u001B[49m\n\u001B[0;32m     44\u001B[0m \u001B[43m  \u001B[49m\u001B[43mcontents\u001B[49m\u001B[43m \u001B[49m\u001B[38;5;241;43m=\u001B[39;49m\u001B[43m \u001B[49m\u001B[43mcontents\u001B[49m\u001B[43m,\u001B[49m\n\u001B[0;32m     45\u001B[0m \u001B[43m  \u001B[49m\u001B[43mconfig\u001B[49m\u001B[43m \u001B[49m\u001B[38;5;241;43m=\u001B[39;49m\u001B[43m \u001B[49m\u001B[43mgenerate_content_config\u001B[49m\u001B[43m,\u001B[49m\n\u001B[0;32m     46\u001B[0m \u001B[43m  \u001B[49m\u001B[43m)\u001B[49m\u001B[43m:\u001B[49m\n\u001B[0;32m     47\u001B[0m \u001B[43m  \u001B[49m\u001B[38;5;28;43mprint\u001B[39;49m\u001B[43m(\u001B[49m\u001B[43mchunk\u001B[49m\u001B[38;5;241;43m.\u001B[39;49m\u001B[43mtext\u001B[49m\u001B[43m,\u001B[49m\u001B[43m \u001B[49m\u001B[43mend\u001B[49m\u001B[38;5;241;43m=\u001B[39;49m\u001B[38;5;124;43m\"\u001B[39;49m\u001B[38;5;124;43m\"\u001B[39;49m\u001B[43m)\u001B[49m\n",
      "File \u001B[1;32m~\\PycharmProjects\\BRUMBRUMWEEEE\\.venv\\Lib\\site-packages\\google\\genai\\models.py:4808\u001B[0m, in \u001B[0;36mgenerate_content_stream\u001B[1;34m(self, model, contents, config)\u001B[0m\n\u001B[0;32m   4805\u001B[0m   logger\u001B[38;5;241m.\u001B[39minfo(\u001B[38;5;124m'\u001B[39m\u001B[38;5;124mReached max remote calls for automatic function calling.\u001B[39m\u001B[38;5;124m'\u001B[39m)\n\u001B[0;32m   4807\u001B[0m function_map \u001B[38;5;241m=\u001B[39m _extra_utils\u001B[38;5;241m.\u001B[39mget_function_map(config)\n\u001B[1;32m-> 4808\u001B[0m \u001B[38;5;28;01mif\u001B[39;00m \u001B[38;5;129;01mnot\u001B[39;00m function_map:\n\u001B[0;32m   4809\u001B[0m   \u001B[38;5;28;01mbreak\u001B[39;00m\n\u001B[0;32m   4810\u001B[0m \u001B[38;5;28;01mif\u001B[39;00m \u001B[38;5;129;01mnot\u001B[39;00m response:\n",
      "File \u001B[1;32m~\\PycharmProjects\\BRUMBRUMWEEEE\\.venv\\Lib\\site-packages\\google\\genai\\models.py:3892\u001B[0m, in \u001B[0;36m_generate_content_stream\u001B[1;34m(self, model, contents, config)\u001B[0m\n\u001B[0;32m   3868\u001B[0m \u001B[38;5;28;01mdef\u001B[39;00m\u001B[38;5;250m \u001B[39m\u001B[38;5;21membed_content\u001B[39m(\n\u001B[0;32m   3869\u001B[0m     \u001B[38;5;28mself\u001B[39m,\n\u001B[0;32m   3870\u001B[0m     \u001B[38;5;241m*\u001B[39m,\n\u001B[1;32m   (...)\u001B[0m\n\u001B[0;32m   3873\u001B[0m     config: Optional[types\u001B[38;5;241m.\u001B[39mEmbedContentConfigOrDict] \u001B[38;5;241m=\u001B[39m \u001B[38;5;28;01mNone\u001B[39;00m,\n\u001B[0;32m   3874\u001B[0m ) \u001B[38;5;241m-\u001B[39m\u001B[38;5;241m>\u001B[39m types\u001B[38;5;241m.\u001B[39mEmbedContentResponse:\n\u001B[0;32m   3875\u001B[0m \u001B[38;5;250m  \u001B[39m\u001B[38;5;124;03m\"\"\"Calculates embeddings for the given contents. Only text is supported.\u001B[39;00m\n\u001B[0;32m   3876\u001B[0m \n\u001B[0;32m   3877\u001B[0m \u001B[38;5;124;03m  Args:\u001B[39;00m\n\u001B[0;32m   3878\u001B[0m \u001B[38;5;124;03m    model (str): The model to use.\u001B[39;00m\n\u001B[0;32m   3879\u001B[0m \u001B[38;5;124;03m    contents (list[Content]): The contents to embed.\u001B[39;00m\n\u001B[0;32m   3880\u001B[0m \u001B[38;5;124;03m    config (EmbedContentConfig): Optional configuration for embeddings.\u001B[39;00m\n\u001B[0;32m   3881\u001B[0m \n\u001B[0;32m   3882\u001B[0m \u001B[38;5;124;03m  Usage:\u001B[39;00m\n\u001B[0;32m   3883\u001B[0m \n\u001B[0;32m   3884\u001B[0m \u001B[38;5;124;03m  .. code-block:: python\u001B[39;00m\n\u001B[0;32m   3885\u001B[0m \n\u001B[0;32m   3886\u001B[0m \u001B[38;5;124;03m    embeddings = client.models.embed_content(\u001B[39;00m\n\u001B[0;32m   3887\u001B[0m \u001B[38;5;124;03m        model= 'text-embedding-004',\u001B[39;00m\n\u001B[0;32m   3888\u001B[0m \u001B[38;5;124;03m        contents=[\u001B[39;00m\n\u001B[0;32m   3889\u001B[0m \u001B[38;5;124;03m            'What is your name?',\u001B[39;00m\n\u001B[0;32m   3890\u001B[0m \u001B[38;5;124;03m            'What is your favorite color?',\u001B[39;00m\n\u001B[0;32m   3891\u001B[0m \u001B[38;5;124;03m        ],\u001B[39;00m\n\u001B[1;32m-> 3892\u001B[0m \u001B[38;5;124;03m        config={\u001B[39;00m\n\u001B[0;32m   3893\u001B[0m \u001B[38;5;124;03m            'output_dimensionality': 64\u001B[39;00m\n\u001B[0;32m   3894\u001B[0m \u001B[38;5;124;03m        },\u001B[39;00m\n\u001B[0;32m   3895\u001B[0m \u001B[38;5;124;03m    )\u001B[39;00m\n\u001B[0;32m   3896\u001B[0m \u001B[38;5;124;03m  \"\"\"\u001B[39;00m\n\u001B[0;32m   3898\u001B[0m   parameter_model \u001B[38;5;241m=\u001B[39m types\u001B[38;5;241m.\u001B[39m_EmbedContentParameters(\n\u001B[0;32m   3899\u001B[0m       model\u001B[38;5;241m=\u001B[39mmodel,\n\u001B[0;32m   3900\u001B[0m       contents\u001B[38;5;241m=\u001B[39mcontents,\n\u001B[0;32m   3901\u001B[0m       config\u001B[38;5;241m=\u001B[39mconfig,\n\u001B[0;32m   3902\u001B[0m   )\n\u001B[0;32m   3904\u001B[0m   request_url_dict: Optional[\u001B[38;5;28mdict\u001B[39m[\u001B[38;5;28mstr\u001B[39m, \u001B[38;5;28mstr\u001B[39m]]\n",
      "File \u001B[1;32m~\\PycharmProjects\\BRUMBRUMWEEEE\\.venv\\Lib\\site-packages\\google\\genai\\_api_client.py:474\u001B[0m, in \u001B[0;36mrequest_streamed\u001B[1;34m(self, http_method, path, request_dict, http_options)\u001B[0m\n\u001B[0;32m    466\u001B[0m \u001B[38;5;28;01mdef\u001B[39;00m\u001B[38;5;250m \u001B[39m\u001B[38;5;21m_maybe_set\u001B[39m(\n\u001B[0;32m    467\u001B[0m     args: Optional[\u001B[38;5;28mdict\u001B[39m[\u001B[38;5;28mstr\u001B[39m, Any]],\n\u001B[0;32m    468\u001B[0m     ctx: ssl\u001B[38;5;241m.\u001B[39mSSLContext,\n\u001B[0;32m    469\u001B[0m ) \u001B[38;5;241m-\u001B[39m\u001B[38;5;241m>\u001B[39m \u001B[38;5;28mdict\u001B[39m[\u001B[38;5;28mstr\u001B[39m, Any]:\n\u001B[0;32m    470\u001B[0m \u001B[38;5;250m  \u001B[39m\u001B[38;5;124;03m\"\"\"Sets the SSL context in the client args if not set.\u001B[39;00m\n\u001B[0;32m    471\u001B[0m \n\u001B[0;32m    472\u001B[0m \u001B[38;5;124;03m  Does not override the SSL context if it is already set.\u001B[39;00m\n\u001B[0;32m    473\u001B[0m \n\u001B[1;32m--> 474\u001B[0m \u001B[38;5;124;03m  Args:\u001B[39;00m\n\u001B[0;32m    475\u001B[0m \u001B[38;5;124;03m    args: The client args to to check for SSL context.\u001B[39;00m\n\u001B[0;32m    476\u001B[0m \u001B[38;5;124;03m    ctx: The SSL context to set.\u001B[39;00m\n\u001B[0;32m    477\u001B[0m \n\u001B[0;32m    478\u001B[0m \u001B[38;5;124;03m  Returns:\u001B[39;00m\n\u001B[0;32m    479\u001B[0m \u001B[38;5;124;03m    The client args with the SSL context included.\u001B[39;00m\n\u001B[0;32m    480\u001B[0m \u001B[38;5;124;03m  \"\"\"\u001B[39;00m\n\u001B[0;32m    481\u001B[0m   \u001B[38;5;28;01mif\u001B[39;00m \u001B[38;5;129;01mnot\u001B[39;00m args \u001B[38;5;129;01mor\u001B[39;00m \u001B[38;5;129;01mnot\u001B[39;00m args\u001B[38;5;241m.\u001B[39mget(verify):\n\u001B[0;32m    482\u001B[0m     args \u001B[38;5;241m=\u001B[39m (args \u001B[38;5;129;01mor\u001B[39;00m {})\u001B[38;5;241m.\u001B[39mcopy()\n",
      "File \u001B[1;32m~\\PycharmProjects\\BRUMBRUMWEEEE\\.venv\\Lib\\site-packages\\google\\genai\\_api_client.py:378\u001B[0m, in \u001B[0;36m_request\u001B[1;34m(self, http_request, stream)\u001B[0m\n\u001B[0;32m    375\u001B[0m   self.project = None\n\u001B[0;32m    376\u001B[0m   self.location = None\n\u001B[0;32m    377\u001B[0m elif (project or location) and env_api_key:\n\u001B[1;32m--> 378\u001B[0m   # Explicit project/location takes precedence over implicit api_key.\n\u001B[0;32m    379\u001B[0m   logger.info(\n\u001B[0;32m    380\u001B[0m       'The user provided project/location will take precedence over the'\n\u001B[0;32m    381\u001B[0m       + ' Vertex AI API key from the environment variable.'\n\u001B[0;32m    382\u001B[0m   )\n\u001B[0;32m    383\u001B[0m   self.api_key = None\n",
      "File \u001B[1;32m~\\PycharmProjects\\BRUMBRUMWEEEE\\.venv\\Lib\\site-packages\\google\\auth\\transport\\requests.py:533\u001B[0m, in \u001B[0;36mAuthorizedSession.request\u001B[1;34m(self, method, url, data, headers, max_allowed_time, timeout, **kwargs)\u001B[0m\n\u001B[0;32m    530\u001B[0m remaining_time \u001B[38;5;241m=\u001B[39m max_allowed_time\n\u001B[0;32m    532\u001B[0m \u001B[38;5;28;01mwith\u001B[39;00m TimeoutGuard(remaining_time) \u001B[38;5;28;01mas\u001B[39;00m guard:\n\u001B[1;32m--> 533\u001B[0m     \u001B[38;5;28;43mself\u001B[39;49m\u001B[38;5;241;43m.\u001B[39;49m\u001B[43mcredentials\u001B[49m\u001B[38;5;241;43m.\u001B[39;49m\u001B[43mbefore_request\u001B[49m\u001B[43m(\u001B[49m\u001B[43mauth_request\u001B[49m\u001B[43m,\u001B[49m\u001B[43m \u001B[49m\u001B[43mmethod\u001B[49m\u001B[43m,\u001B[49m\u001B[43m \u001B[49m\u001B[43murl\u001B[49m\u001B[43m,\u001B[49m\u001B[43m \u001B[49m\u001B[43mrequest_headers\u001B[49m\u001B[43m)\u001B[49m\n\u001B[0;32m    534\u001B[0m remaining_time \u001B[38;5;241m=\u001B[39m guard\u001B[38;5;241m.\u001B[39mremaining_timeout\n\u001B[0;32m    536\u001B[0m \u001B[38;5;28;01mwith\u001B[39;00m TimeoutGuard(remaining_time) \u001B[38;5;28;01mas\u001B[39;00m guard:\n",
      "File \u001B[1;32m~\\PycharmProjects\\BRUMBRUMWEEEE\\.venv\\Lib\\site-packages\\google\\auth\\credentials.py:239\u001B[0m, in \u001B[0;36mCredentials.before_request\u001B[1;34m(self, request, method, url, headers)\u001B[0m\n\u001B[0;32m    237\u001B[0m     \u001B[38;5;28mself\u001B[39m\u001B[38;5;241m.\u001B[39m_non_blocking_refresh(request)\n\u001B[0;32m    238\u001B[0m \u001B[38;5;28;01melse\u001B[39;00m:\n\u001B[1;32m--> 239\u001B[0m     \u001B[38;5;28;43mself\u001B[39;49m\u001B[38;5;241;43m.\u001B[39;49m\u001B[43m_blocking_refresh\u001B[49m\u001B[43m(\u001B[49m\u001B[43mrequest\u001B[49m\u001B[43m)\u001B[49m\n\u001B[0;32m    241\u001B[0m metrics\u001B[38;5;241m.\u001B[39madd_metric_header(headers, \u001B[38;5;28mself\u001B[39m\u001B[38;5;241m.\u001B[39m_metric_header_for_usage())\n\u001B[0;32m    242\u001B[0m \u001B[38;5;28mself\u001B[39m\u001B[38;5;241m.\u001B[39mapply(headers)\n",
      "File \u001B[1;32m~\\PycharmProjects\\BRUMBRUMWEEEE\\.venv\\Lib\\site-packages\\google\\auth\\credentials.py:202\u001B[0m, in \u001B[0;36mCredentials._blocking_refresh\u001B[1;34m(self, request)\u001B[0m\n\u001B[0;32m    200\u001B[0m \u001B[38;5;28;01mdef\u001B[39;00m\u001B[38;5;250m \u001B[39m\u001B[38;5;21m_blocking_refresh\u001B[39m(\u001B[38;5;28mself\u001B[39m, request):\n\u001B[0;32m    201\u001B[0m     \u001B[38;5;28;01mif\u001B[39;00m \u001B[38;5;129;01mnot\u001B[39;00m \u001B[38;5;28mself\u001B[39m\u001B[38;5;241m.\u001B[39mvalid:\n\u001B[1;32m--> 202\u001B[0m         \u001B[38;5;28;43mself\u001B[39;49m\u001B[38;5;241;43m.\u001B[39;49m\u001B[43mrefresh\u001B[49m\u001B[43m(\u001B[49m\u001B[43mrequest\u001B[49m\u001B[43m)\u001B[49m\n",
      "File \u001B[1;32m~\\PycharmProjects\\BRUMBRUMWEEEE\\.venv\\Lib\\site-packages\\google\\oauth2\\credentials.py:409\u001B[0m, in \u001B[0;36mCredentials.refresh\u001B[1;34m(self, request)\u001B[0m\n\u001B[0;32m    391\u001B[0m \u001B[38;5;28;01mif\u001B[39;00m (\n\u001B[0;32m    392\u001B[0m     \u001B[38;5;28mself\u001B[39m\u001B[38;5;241m.\u001B[39m_refresh_token \u001B[38;5;129;01mis\u001B[39;00m \u001B[38;5;28;01mNone\u001B[39;00m\n\u001B[0;32m    393\u001B[0m     \u001B[38;5;129;01mor\u001B[39;00m \u001B[38;5;28mself\u001B[39m\u001B[38;5;241m.\u001B[39m_token_uri \u001B[38;5;129;01mis\u001B[39;00m \u001B[38;5;28;01mNone\u001B[39;00m\n\u001B[0;32m    394\u001B[0m     \u001B[38;5;129;01mor\u001B[39;00m \u001B[38;5;28mself\u001B[39m\u001B[38;5;241m.\u001B[39m_client_id \u001B[38;5;129;01mis\u001B[39;00m \u001B[38;5;28;01mNone\u001B[39;00m\n\u001B[0;32m    395\u001B[0m     \u001B[38;5;129;01mor\u001B[39;00m \u001B[38;5;28mself\u001B[39m\u001B[38;5;241m.\u001B[39m_client_secret \u001B[38;5;129;01mis\u001B[39;00m \u001B[38;5;28;01mNone\u001B[39;00m\n\u001B[0;32m    396\u001B[0m ):\n\u001B[0;32m    397\u001B[0m     \u001B[38;5;28;01mraise\u001B[39;00m exceptions\u001B[38;5;241m.\u001B[39mRefreshError(\n\u001B[0;32m    398\u001B[0m         \u001B[38;5;124m\"\u001B[39m\u001B[38;5;124mThe credentials do not contain the necessary fields need to \u001B[39m\u001B[38;5;124m\"\u001B[39m\n\u001B[0;32m    399\u001B[0m         \u001B[38;5;124m\"\u001B[39m\u001B[38;5;124mrefresh the access token. You must specify refresh_token, \u001B[39m\u001B[38;5;124m\"\u001B[39m\n\u001B[0;32m    400\u001B[0m         \u001B[38;5;124m\"\u001B[39m\u001B[38;5;124mtoken_uri, client_id, and client_secret.\u001B[39m\u001B[38;5;124m\"\u001B[39m\n\u001B[0;32m    401\u001B[0m     )\n\u001B[0;32m    403\u001B[0m (\n\u001B[0;32m    404\u001B[0m     access_token,\n\u001B[0;32m    405\u001B[0m     refresh_token,\n\u001B[0;32m    406\u001B[0m     expiry,\n\u001B[0;32m    407\u001B[0m     grant_response,\n\u001B[0;32m    408\u001B[0m     rapt_token,\n\u001B[1;32m--> 409\u001B[0m ) \u001B[38;5;241m=\u001B[39m \u001B[43mreauth\u001B[49m\u001B[38;5;241;43m.\u001B[39;49m\u001B[43mrefresh_grant\u001B[49m\u001B[43m(\u001B[49m\n\u001B[0;32m    410\u001B[0m \u001B[43m    \u001B[49m\u001B[43mrequest\u001B[49m\u001B[43m,\u001B[49m\n\u001B[0;32m    411\u001B[0m \u001B[43m    \u001B[49m\u001B[38;5;28;43mself\u001B[39;49m\u001B[38;5;241;43m.\u001B[39;49m\u001B[43m_token_uri\u001B[49m\u001B[43m,\u001B[49m\n\u001B[0;32m    412\u001B[0m \u001B[43m    \u001B[49m\u001B[38;5;28;43mself\u001B[39;49m\u001B[38;5;241;43m.\u001B[39;49m\u001B[43m_refresh_token\u001B[49m\u001B[43m,\u001B[49m\n\u001B[0;32m    413\u001B[0m \u001B[43m    \u001B[49m\u001B[38;5;28;43mself\u001B[39;49m\u001B[38;5;241;43m.\u001B[39;49m\u001B[43m_client_id\u001B[49m\u001B[43m,\u001B[49m\n\u001B[0;32m    414\u001B[0m \u001B[43m    \u001B[49m\u001B[38;5;28;43mself\u001B[39;49m\u001B[38;5;241;43m.\u001B[39;49m\u001B[43m_client_secret\u001B[49m\u001B[43m,\u001B[49m\n\u001B[0;32m    415\u001B[0m \u001B[43m    \u001B[49m\u001B[43mscopes\u001B[49m\u001B[38;5;241;43m=\u001B[39;49m\u001B[43mscopes\u001B[49m\u001B[43m,\u001B[49m\n\u001B[0;32m    416\u001B[0m \u001B[43m    \u001B[49m\u001B[43mrapt_token\u001B[49m\u001B[38;5;241;43m=\u001B[39;49m\u001B[38;5;28;43mself\u001B[39;49m\u001B[38;5;241;43m.\u001B[39;49m\u001B[43m_rapt_token\u001B[49m\u001B[43m,\u001B[49m\n\u001B[0;32m    417\u001B[0m \u001B[43m    \u001B[49m\u001B[43menable_reauth_refresh\u001B[49m\u001B[38;5;241;43m=\u001B[39;49m\u001B[38;5;28;43mself\u001B[39;49m\u001B[38;5;241;43m.\u001B[39;49m\u001B[43m_enable_reauth_refresh\u001B[49m\u001B[43m,\u001B[49m\n\u001B[0;32m    418\u001B[0m \u001B[43m\u001B[49m\u001B[43m)\u001B[49m\n\u001B[0;32m    420\u001B[0m \u001B[38;5;28mself\u001B[39m\u001B[38;5;241m.\u001B[39mtoken \u001B[38;5;241m=\u001B[39m access_token\n\u001B[0;32m    421\u001B[0m \u001B[38;5;28mself\u001B[39m\u001B[38;5;241m.\u001B[39mexpiry \u001B[38;5;241m=\u001B[39m expiry\n",
      "File \u001B[1;32m~\\PycharmProjects\\BRUMBRUMWEEEE\\.venv\\Lib\\site-packages\\google\\oauth2\\reauth.py:366\u001B[0m, in \u001B[0;36mrefresh_grant\u001B[1;34m(request, token_uri, refresh_token, client_id, client_secret, scopes, rapt_token, enable_reauth_refresh)\u001B[0m\n\u001B[0;32m    357\u001B[0m     (\n\u001B[0;32m    358\u001B[0m         response_status_ok,\n\u001B[0;32m    359\u001B[0m         response_data,\n\u001B[1;32m   (...)\u001B[0m\n\u001B[0;32m    362\u001B[0m         request, token_uri, body, headers\u001B[38;5;241m=\u001B[39mmetrics_header\n\u001B[0;32m    363\u001B[0m     )\n\u001B[0;32m    365\u001B[0m \u001B[38;5;28;01mif\u001B[39;00m \u001B[38;5;129;01mnot\u001B[39;00m response_status_ok:\n\u001B[1;32m--> 366\u001B[0m     \u001B[43m_client\u001B[49m\u001B[38;5;241;43m.\u001B[39;49m\u001B[43m_handle_error_response\u001B[49m\u001B[43m(\u001B[49m\u001B[43mresponse_data\u001B[49m\u001B[43m,\u001B[49m\u001B[43m \u001B[49m\u001B[43mretryable_error\u001B[49m\u001B[43m)\u001B[49m\n\u001B[0;32m    367\u001B[0m \u001B[38;5;28;01mreturn\u001B[39;00m _client\u001B[38;5;241m.\u001B[39m_handle_refresh_grant_response(response_data, refresh_token) \u001B[38;5;241m+\u001B[39m (\n\u001B[0;32m    368\u001B[0m     rapt_token,\n\u001B[0;32m    369\u001B[0m )\n",
      "File \u001B[1;32m~\\PycharmProjects\\BRUMBRUMWEEEE\\.venv\\Lib\\site-packages\\google\\oauth2\\_client.py:69\u001B[0m, in \u001B[0;36m_handle_error_response\u001B[1;34m(response_data, retryable_error)\u001B[0m\n\u001B[0;32m     66\u001B[0m \u001B[38;5;28;01mexcept\u001B[39;00m (\u001B[38;5;167;01mKeyError\u001B[39;00m, \u001B[38;5;167;01mValueError\u001B[39;00m):\n\u001B[0;32m     67\u001B[0m     error_details \u001B[38;5;241m=\u001B[39m json\u001B[38;5;241m.\u001B[39mdumps(response_data)\n\u001B[1;32m---> 69\u001B[0m \u001B[38;5;28;01mraise\u001B[39;00m exceptions\u001B[38;5;241m.\u001B[39mRefreshError(\n\u001B[0;32m     70\u001B[0m     error_details, response_data, retryable\u001B[38;5;241m=\u001B[39mretryable_error\n\u001B[0;32m     71\u001B[0m )\n",
      "\u001B[1;31mRefreshError\u001B[0m: ('invalid_grant: Bad Request', {'error': 'invalid_grant', 'error_description': 'Bad Request'})"
     ]
    }
   ],
   "source": [
    "from google import genai\n",
    "from google.genai import types\n",
    "import base64\n",
    "\n",
    "def generate():\n",
    "  client = genai.Client(\n",
    "      vertexai=True,\n",
    "      project=\"mthesis-450913\",\n",
    "      location=\"us-central1\",\n",
    "  )\n",
    "\n",
    "\n",
    "  model = \"gemini-2.0-flash-lite-preview-02-05\"\n",
    "  contents = [\n",
    "    types.Content(\n",
    "      role=\"user\",\n",
    "      parts=[\n",
    "        types.Part.from_text(text=\"\"\"Telle me valenis day joke on polish.\"\"\")\n",
    "      ]\n",
    "    )\n",
    "  ]\n",
    "  generate_content_config = types.GenerateContentConfig(\n",
    "    temperature = 1,\n",
    "    top_p = 0.95,\n",
    "    max_output_tokens = 8192,\n",
    "    response_modalities = [\"TEXT\"],\n",
    "    safety_settings = [types.SafetySetting(\n",
    "      category=\"HARM_CATEGORY_HATE_SPEECH\",\n",
    "      threshold=\"OFF\"\n",
    "    ),types.SafetySetting(\n",
    "      category=\"HARM_CATEGORY_DANGEROUS_CONTENT\",\n",
    "      threshold=\"OFF\"\n",
    "    ),types.SafetySetting(\n",
    "      category=\"HARM_CATEGORY_SEXUALLY_EXPLICIT\",\n",
    "      threshold=\"OFF\"\n",
    "    ),types.SafetySetting(\n",
    "      category=\"HARM_CATEGORY_HARASSMENT\",\n",
    "      threshold=\"OFF\"\n",
    "    )],\n",
    "  )\n",
    "\n",
    "  for chunk in client.models.generate_content_stream(\n",
    "    model = model,\n",
    "    contents = contents,\n",
    "    config = generate_content_config,\n",
    "    ):\n",
    "    print(chunk.text, end=\"\")\n",
    "\n",
    "generate()"
   ],
   "metadata": {
    "collapsed": false,
    "ExecuteTime": {
     "end_time": "2025-05-07T13:05:02.216686700Z",
     "start_time": "2025-05-07T13:04:57.864621200Z"
    }
   },
   "id": "fe5a1fbb43b48216",
   "execution_count": 2
  },
  {
   "cell_type": "code",
   "outputs": [],
   "source": [],
   "metadata": {
    "collapsed": false
   },
   "id": "3283d7d02cc08f89"
  }
 ],
 "metadata": {
  "kernelspec": {
   "display_name": "Python 3",
   "language": "python",
   "name": "python3"
  },
  "language_info": {
   "codemirror_mode": {
    "name": "ipython",
    "version": 2
   },
   "file_extension": ".py",
   "mimetype": "text/x-python",
   "name": "python",
   "nbconvert_exporter": "python",
   "pygments_lexer": "ipython2",
   "version": "2.7.6"
  }
 },
 "nbformat": 4,
 "nbformat_minor": 5
}
