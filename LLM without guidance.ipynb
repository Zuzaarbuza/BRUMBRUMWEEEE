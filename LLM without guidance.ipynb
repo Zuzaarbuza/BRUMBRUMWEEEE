{
 "cells": [
  {
   "cell_type": "markdown",
   "source": [
    "getting the AD list of names for the llm prompt"
   ],
   "metadata": {
    "collapsed": false
   },
   "id": "aa002f0e61763dc"
  },
  {
   "cell_type": "code",
   "outputs": [],
   "source": [
    "import os\n",
    "\n",
    "# === CONFIGURATION ===\n",
    "PDF_DIR = r\"C:\\Users\\zdrop\\OneDrive - TU Wien\\MASTER THESIS\\ADs\\A320\\directives\\sample dataset\\mini test data\"\n",
    "\n",
    "def get_ad_identifiers():\n",
    "    ad_list = []\n",
    "    for filename in os.listdir(PDF_DIR):\n",
    "        if filename.lower().endswith(\".pdf\"):\n",
    "            ad_name = os.path.splitext(filename)[0]  # removes \".pdf\"\n",
    "            ad_list.append(ad_name)\n",
    "    return ad_list\n",
    "\n",
    "# Example usage"
   ],
   "metadata": {
    "collapsed": false,
    "ExecuteTime": {
     "end_time": "2025-07-06T14:28:26.401933300Z",
     "start_time": "2025-07-06T14:28:26.369767900Z"
    }
   },
   "id": "31ce48550becfa4b",
   "execution_count": 18
  },
  {
   "cell_type": "markdown",
   "source": [
    "choosing random 20 ads as ground truth dataset"
   ],
   "metadata": {
    "collapsed": false
   },
   "id": "e3fb2867fd8bad0c"
  },
  {
   "cell_type": "code",
   "outputs": [
    {
     "data": {
      "text/plain": "['AD_2021-0236_1',\n 'AD_2019-0056_1',\n 'AD_2019-0106_1',\n 'AD_2020-0148_1',\n 'AD_2021-0002R1_1',\n 'AD_2022-0115_2',\n 'AD_2020-0040R1_1',\n 'AD_2021-0172_2',\n 'AD_2022-0185_1',\n 'AD_2020-0118_1',\n 'AD_2022-0030_1',\n 'AD_2019-0173_1',\n 'AD_2022-0032R1_1',\n 'AD_2020-0219_1',\n 'AD_2019-0189_1',\n 'AD_2021-0279_2',\n 'AD_2022-0147_1',\n 'AD_2021-0256_1',\n 'AD_2020-0053_1',\n 'AD_2020-0250_1']"
     },
     "execution_count": 17,
     "metadata": {},
     "output_type": "execute_result"
    }
   ],
   "source": [
    "import random\n",
    "\n",
    "items=get_ad_identifiers()\n",
    "def choose_random_20(items):\n",
    "    if len(items) < 20:\n",
    "        raise ValueError(\"List has fewer than 20 elements.\")\n",
    "    return random.sample(items, 20)\n",
    "\n",
    "choose_random_20(items)"
   ],
   "metadata": {
    "collapsed": false,
    "ExecuteTime": {
     "end_time": "2025-07-06T13:21:35.287504400Z",
     "start_time": "2025-07-06T13:21:35.264255200Z"
    }
   },
   "id": "b13139df73004316",
   "execution_count": 17
  },
  {
   "cell_type": "markdown",
   "source": [
    "asks for all info regarding applicability of an ad based just on it's number, saves the llm output in json files."
   ],
   "metadata": {
    "collapsed": false
   },
   "id": "7394d707014dadfc"
  },
  {
   "cell_type": "code",
   "outputs": [
    {
     "name": "stdout",
     "output_type": "stream",
     "text": [
      "\n",
      "📄 Processing: AD_2018-0289R1_1\n",
      "✅ Output saved to: C:\\Users\\zdrop\\OneDrive - TU Wien\\MASTER THESIS\\ADs\\A320\\directives\\sample dataset\\mini test data\\AD_2018-0289R1_1_extracted.json (9.37 sec)\n",
      "\n",
      "📄 Processing: AD_2019-0122_1\n",
      "✅ Output saved to: C:\\Users\\zdrop\\OneDrive - TU Wien\\MASTER THESIS\\ADs\\A320\\directives\\sample dataset\\mini test data\\AD_2019-0122_1_extracted.json (1.89 sec)\n",
      "\n",
      "📄 Processing: AD_2022-0082_1\n",
      "✅ Output saved to: C:\\Users\\zdrop\\OneDrive - TU Wien\\MASTER THESIS\\ADs\\A320\\directives\\sample dataset\\mini test data\\AD_2022-0082_1_extracted.json (6.64 sec)\n"
     ]
    }
   ],
   "source": [
    "from google import genai\n",
    "from google.genai import types\n",
    "import json\n",
    "import os\n",
    "import time  # ⏱️ for timing\n",
    "\n",
    "# === CONFIGURATION ===\n",
    "INPUT_DIR = r\"C:\\Users\\zdrop\\OneDrive - TU Wien\\MASTER THESIS\\ADs\\A320\\directives\\sample dataset\\mini test data\"\n",
    "OUTPUT_DIR = INPUT_DIR  # save output JSONs in the same folder\n",
    "os.makedirs(OUTPUT_DIR, exist_ok=True)\n",
    "\n",
    "\n",
    "def generate():\n",
    "    client = genai.Client(\n",
    "        vertexai=True,\n",
    "        project=\"mthesis-450913\",\n",
    "        location=\"global\",\n",
    "    )\n",
    "\n",
    "    ad_identifiers = get_ad_identifiers()\n",
    "\n",
    "    for ad_id in ad_identifiers:\n",
    "        print(f\"\\n📄 Processing: {ad_id}\")\n",
    "        start_time = time.time()  # Start timer\n",
    "\n",
    "        instruction = types.Part.from_text(\n",
    "            text=f\"\"\"Extract all information regarding applicability from Airworthiness Directive {ad_id} in JSON format if possible.\"\"\"\n",
    "        )\n",
    "\n",
    "        contents = [\n",
    "            types.Content(\n",
    "                role=\"user\",\n",
    "                parts=[instruction]\n",
    "            ),\n",
    "        ]\n",
    "\n",
    "        generate_content_config = types.GenerateContentConfig(\n",
    "            temperature=1,\n",
    "            top_p=0.95,\n",
    "            max_output_tokens=8192,\n",
    "            safety_settings=[\n",
    "                types.SafetySetting(category=\"HARM_CATEGORY_HATE_SPEECH\", threshold=\"OFF\"),\n",
    "                types.SafetySetting(category=\"HARM_CATEGORY_DANGEROUS_CONTENT\", threshold=\"OFF\"),\n",
    "                types.SafetySetting(category=\"HARM_CATEGORY_SEXUALLY_EXPLICIT\", threshold=\"OFF\"),\n",
    "                types.SafetySetting(category=\"HARM_CATEGORY_HARASSMENT\", threshold=\"OFF\")\n",
    "            ],\n",
    "        )\n",
    "\n",
    "        result_text = \"\"\n",
    "        try:\n",
    "            for chunk in client.models.generate_content_stream(\n",
    "                model=\"gemini-2.0-flash-lite-001\",\n",
    "                contents=contents,\n",
    "                config=generate_content_config,\n",
    "            ):\n",
    "                result_text += chunk.text\n",
    "        except Exception as e:\n",
    "            print(f\"❌ Error with {ad_id}: {e}\")\n",
    "            continue\n",
    "\n",
    "        elapsed = round(time.time() - start_time, 2)  # Time in seconds\n",
    "\n",
    "        # Try to parse JSON, fallback to raw\n",
    "        try:\n",
    "            parsed = json.loads(result_text)\n",
    "        except json.JSONDecodeError:\n",
    "            parsed = {\"raw_output\": result_text}\n",
    "\n",
    "        # ⏱️ Add time to output\n",
    "        parsed[\"processing_time_seconds\"] = elapsed\n",
    "\n",
    "        output_path = os.path.join(OUTPUT_DIR, f\"{ad_id}_extracted.json\")\n",
    "        with open(output_path, \"w\", encoding=\"utf-8\") as f:\n",
    "            json.dump(parsed, f, indent=2)\n",
    "\n",
    "        print(f\"✅ Output saved to: {output_path} ({elapsed} sec)\")\n",
    "\n",
    "if __name__ == \"__main__\":\n",
    "    generate()"
   ],
   "metadata": {
    "collapsed": false,
    "ExecuteTime": {
     "end_time": "2025-07-06T14:30:24.994086700Z",
     "start_time": "2025-07-06T14:30:06.782261100Z"
    }
   },
   "id": "d4bd3446dafca726",
   "execution_count": 20
  },
  {
   "cell_type": "code",
   "outputs": [],
   "source": [],
   "metadata": {
    "collapsed": false
   },
   "id": "82dd9f9853740103"
  }
 ],
 "metadata": {
  "kernelspec": {
   "display_name": "Python 3",
   "language": "python",
   "name": "python3"
  },
  "language_info": {
   "codemirror_mode": {
    "name": "ipython",
    "version": 2
   },
   "file_extension": ".py",
   "mimetype": "text/x-python",
   "name": "python",
   "nbconvert_exporter": "python",
   "pygments_lexer": "ipython2",
   "version": "2.7.6"
  }
 },
 "nbformat": 4,
 "nbformat_minor": 5
}
