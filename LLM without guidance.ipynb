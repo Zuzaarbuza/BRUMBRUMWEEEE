{
 "cells": [
  {
   "cell_type": "markdown",
   "source": [
    "getting the AD list of names for the llm prompt"
   ],
   "metadata": {
    "collapsed": false
   },
   "id": "aa002f0e61763dc"
  },
  {
   "cell_type": "code",
   "outputs": [
    {
     "name": "stdout",
     "output_type": "stream",
     "text": [
      "['AD_2018-0289R1_1', 'AD_2019-0122_1', 'AD_2022-0082_1']\n"
     ]
    }
   ],
   "source": [
    "import os\n",
    "\n",
    "# === CONFIGURATION ===\n",
    "PDF_DIR = r\"C:\\Users\\zdrop\\OneDrive - TU Wien\\MASTER THESIS\\ADs\\A320\\directives\\sample dataset\\mini test data\"\n",
    "\n",
    "def get_ad_identifiers():\n",
    "    ad_list = []\n",
    "    for filename in os.listdir(PDF_DIR):\n",
    "        if filename.lower().endswith(\".pdf\"):\n",
    "            ad_name = os.path.splitext(filename)[0]  # removes \".pdf\"\n",
    "            ad_list.append(ad_name)\n",
    "    return ad_list\n",
    "\n",
    "# Example usage\n",
    "ad_identifiers = get_ad_identifiers()\n",
    "print(ad_identifiers)"
   ],
   "metadata": {
    "collapsed": false,
    "ExecuteTime": {
     "end_time": "2025-07-06T11:37:19.338467Z",
     "start_time": "2025-07-06T11:37:19.243911500Z"
    }
   },
   "id": "31ce48550becfa4b",
   "execution_count": 8
  },
  {
   "cell_type": "markdown",
   "source": [
    "asks for all info regarding applicability of an ad based just on it's number, saves the llm output in json files."
   ],
   "metadata": {
    "collapsed": false
   },
   "id": "7394d707014dadfc"
  },
  {
   "cell_type": "code",
   "outputs": [
    {
     "name": "stdout",
     "output_type": "stream",
     "text": [
      "\n",
      "📄 Processing: AD_2018-0289R1_1\n",
      "✅ Output saved to: C:\\Users\\zdrop\\OneDrive - TU Wien\\MASTER THESIS\\ADs\\A320\\directives\\sample dataset\\mini test data\\AD_2018-0289R1_1_extracted.json\n",
      "\n",
      "📄 Processing: AD_2019-0122_1\n",
      "✅ Output saved to: C:\\Users\\zdrop\\OneDrive - TU Wien\\MASTER THESIS\\ADs\\A320\\directives\\sample dataset\\mini test data\\AD_2019-0122_1_extracted.json\n",
      "\n",
      "📄 Processing: AD_2022-0082_1\n",
      "✅ Output saved to: C:\\Users\\zdrop\\OneDrive - TU Wien\\MASTER THESIS\\ADs\\A320\\directives\\sample dataset\\mini test data\\AD_2022-0082_1_extracted.json\n"
     ]
    }
   ],
   "source": [
    "from google import genai\n",
    "from google.genai import types\n",
    "import json\n",
    "import os\n",
    "\n",
    "# === CONFIGURATION ===\n",
    "INPUT_DIR = r\"C:\\Users\\zdrop\\OneDrive - TU Wien\\MASTER THESIS\\ADs\\A320\\directives\\sample dataset\\mini test data\"\n",
    "OUTPUT_DIR = INPUT_DIR  # same directory for saving JSONs\n",
    "os.makedirs(OUTPUT_DIR, exist_ok=True)\n",
    "\n",
    "def get_ad_identifiers():\n",
    "    return [\n",
    "        os.path.splitext(filename)[0]\n",
    "        for filename in os.listdir(INPUT_DIR)\n",
    "        if filename.lower().endswith(\".pdf\")\n",
    "    ]\n",
    "\n",
    "def generate():\n",
    "    client = genai.Client(\n",
    "        vertexai=True,\n",
    "        project=\"mthesis-450913\",\n",
    "        location=\"global\",\n",
    "    )\n",
    "\n",
    "    ad_identifiers = get_ad_identifiers()\n",
    "\n",
    "    for ad_id in ad_identifiers:\n",
    "        print(f\"\\n📄 Processing: {ad_id}\")\n",
    "        instruction = types.Part.from_text(\n",
    "            text=f\"\"\"Extract all information regarding applicability from Airworthiness Directive {ad_id} in JSON format.\"\"\"\n",
    "        )\n",
    "\n",
    "        contents = [\n",
    "            types.Content(\n",
    "                role=\"user\",\n",
    "                parts=[instruction]\n",
    "            ),\n",
    "        ]\n",
    "\n",
    "        generate_content_config = types.GenerateContentConfig(\n",
    "            temperature=1,\n",
    "            top_p=0.95,\n",
    "            max_output_tokens=8192,\n",
    "            safety_settings=[\n",
    "                types.SafetySetting(category=\"HARM_CATEGORY_HATE_SPEECH\", threshold=\"OFF\"),\n",
    "                types.SafetySetting(category=\"HARM_CATEGORY_DANGEROUS_CONTENT\", threshold=\"OFF\"),\n",
    "                types.SafetySetting(category=\"HARM_CATEGORY_SEXUALLY_EXPLICIT\", threshold=\"OFF\"),\n",
    "                types.SafetySetting(category=\"HARM_CATEGORY_HARASSMENT\", threshold=\"OFF\")\n",
    "            ],\n",
    "        )\n",
    "\n",
    "        result_text = \"\"\n",
    "        try:\n",
    "            for chunk in client.models.generate_content_stream(\n",
    "                model=\"gemini-2.0-flash-lite-001\",\n",
    "                contents=contents,\n",
    "                config=generate_content_config,\n",
    "            ):\n",
    "                result_text += chunk.text\n",
    "        except Exception as e:\n",
    "            print(f\"❌ Error with {ad_id}: {e}\")\n",
    "            continue\n",
    "\n",
    "        # Try to parse JSON, fallback to raw\n",
    "        try:\n",
    "            parsed = json.loads(result_text)\n",
    "        except json.JSONDecodeError:\n",
    "            parsed = {\"raw_output\": result_text}\n",
    "\n",
    "        output_path = os.path.join(OUTPUT_DIR, f\"{ad_id}_extracted.json\")\n",
    "        with open(output_path, \"w\", encoding=\"utf-8\") as f:\n",
    "            json.dump(parsed, f, indent=2)\n",
    "\n",
    "        print(f\"✅ Output saved to: {output_path}\")\n",
    "\n",
    "if __name__ == \"__main__\":\n",
    "    generate()"
   ],
   "metadata": {
    "collapsed": false,
    "ExecuteTime": {
     "end_time": "2025-07-06T11:40:35.404884100Z",
     "start_time": "2025-07-06T11:40:26.473937Z"
    }
   },
   "id": "b454e6462393680e",
   "execution_count": 9
  }
 ],
 "metadata": {
  "kernelspec": {
   "display_name": "Python 3",
   "language": "python",
   "name": "python3"
  },
  "language_info": {
   "codemirror_mode": {
    "name": "ipython",
    "version": 2
   },
   "file_extension": ".py",
   "mimetype": "text/x-python",
   "name": "python",
   "nbconvert_exporter": "python",
   "pygments_lexer": "ipython2",
   "version": "2.7.6"
  }
 },
 "nbformat": 4,
 "nbformat_minor": 5
}
